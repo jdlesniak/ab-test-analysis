{
 "cells": [
  {
   "cell_type": "code",
   "execution_count": 1,
   "metadata": {
    "vscode": {
     "languageId": "python"
    }
   },
   "outputs": [],
   "source": [
    "import pandas as pd\n",
    "import numpy as np\n",
    "\n",
    "from pathlib import Path\n",
    "import sys\n",
    "\n",
    "# Add src/ to path for custom module imports\n",
    "project_root = Path().resolve().parents[0]\n",
    "sys.path.append(str(project_root / \"src\"))\n",
    "\n",
    "from paths import RAW_DATA_DIR"
   ]
  },
  {
   "cell_type": "code",
   "execution_count": 2,
   "metadata": {
    "vscode": {
     "languageId": "python"
    }
   },
   "outputs": [
    {
     "data": {
      "text/html": [
       "<div>\n",
       "<style scoped>\n",
       "    .dataframe tbody tr th:only-of-type {\n",
       "        vertical-align: middle;\n",
       "    }\n",
       "\n",
       "    .dataframe tbody tr th {\n",
       "        vertical-align: top;\n",
       "    }\n",
       "\n",
       "    .dataframe thead th {\n",
       "        text-align: right;\n",
       "    }\n",
       "</style>\n",
       "<table border=\"1\" class=\"dataframe\">\n",
       "  <thead>\n",
       "    <tr style=\"text-align: right;\">\n",
       "      <th></th>\n",
       "      <th>Unnamed: 0</th>\n",
       "      <th>created_at</th>\n",
       "      <th>updated_at</th>\n",
       "      <th>clickability_test_id</th>\n",
       "      <th>excerpt</th>\n",
       "      <th>headline</th>\n",
       "      <th>lede</th>\n",
       "      <th>slug</th>\n",
       "      <th>eyecatcher_id</th>\n",
       "      <th>impressions</th>\n",
       "      <th>clicks</th>\n",
       "      <th>significance</th>\n",
       "      <th>first_place</th>\n",
       "      <th>winner</th>\n",
       "      <th>share_text</th>\n",
       "      <th>square</th>\n",
       "      <th>test_week</th>\n",
       "    </tr>\n",
       "  </thead>\n",
       "  <tbody>\n",
       "    <tr>\n",
       "      <th>0</th>\n",
       "      <td>0</td>\n",
       "      <td>2014-11-20 06:43:16.005</td>\n",
       "      <td>2016-04-02 16:33:38.062</td>\n",
       "      <td>546d88fb84ad38b2ce000024</td>\n",
       "      <td>Things that matter. Pass 'em on.</td>\n",
       "      <td>They're Being Called 'Walmart's Worst Nightmar...</td>\n",
       "      <td>&lt;p&gt;When I saw *why* people are calling them \"W...</td>\n",
       "      <td>theyre-being-called-walmarts-worst-nightmare-a...</td>\n",
       "      <td>546d6fa19ad54eec8d00002d</td>\n",
       "      <td>3052</td>\n",
       "      <td>150</td>\n",
       "      <td>100.0</td>\n",
       "      <td>True</td>\n",
       "      <td>True</td>\n",
       "      <td>Anyone who's ever felt guilty about shopping a...</td>\n",
       "      <td>NaN</td>\n",
       "      <td>201446</td>\n",
       "    </tr>\n",
       "  </tbody>\n",
       "</table>\n",
       "</div>"
      ],
      "text/plain": [
       "   Unnamed: 0               created_at               updated_at  \\\n",
       "0           0  2014-11-20 06:43:16.005  2016-04-02 16:33:38.062   \n",
       "\n",
       "       clickability_test_id                           excerpt  \\\n",
       "0  546d88fb84ad38b2ce000024  Things that matter. Pass 'em on.   \n",
       "\n",
       "                                            headline  \\\n",
       "0  They're Being Called 'Walmart's Worst Nightmar...   \n",
       "\n",
       "                                                lede  \\\n",
       "0  <p>When I saw *why* people are calling them \"W...   \n",
       "\n",
       "                                                slug  \\\n",
       "0  theyre-being-called-walmarts-worst-nightmare-a...   \n",
       "\n",
       "              eyecatcher_id  impressions  clicks  significance  first_place  \\\n",
       "0  546d6fa19ad54eec8d00002d         3052     150         100.0         True   \n",
       "\n",
       "   winner                                         share_text square  test_week  \n",
       "0    True  Anyone who's ever felt guilty about shopping a...    NaN     201446  "
      ]
     },
     "execution_count": null,
     "metadata": {},
     "output_type": "execute_result"
    }
   ],
   "source": [
    "## read in the data\n",
    "data_path = RAW_DATA_DIR / \"upworthy-archive-exploratory-packages-03.12.2020.csv\"\n",
    "raw_data = pd.read_csv(data_path)\n",
    "raw_data.head(1)"
   ]
  },
  {
   "cell_type": "markdown",
   "metadata": {
    "vscode": {
     "languageId": "python"
    }
   },
   "source": [
    "### First Impresions\n",
    "\n",
    "#### Unuseful column\n",
    "We have a column that needs to be dropped, that's 'Unnamed: 0' - it offers zero value.\n",
    "\n",
    "#### Drop non-randomized tests\n",
    "There is a known issue between 06-01-2013 and 01-31-2014. We need to drop those tests from the data because randomization is a requirement for any A/B test. Without it, we induce bias to the results and cannot reliably analyze the outputs. Fortunately, there is a column called *problem* that indivates if the test occured during this period. We can easily drop these.\n",
    "\n",
    "#### Key column descriptions\n",
    "\n",
    "Not every columns is useful for these tests, or a sort of meta-analysis\n",
    "\n",
    "- *clickability_test_id*: Unique ID for each test. There are multiple rows per test.\n",
    "- *headline*: this is the variable being tested. Not explicitly used in an A/B test, it's just the factor.\n",
    "- *impressions*: denominator for a two-proportion z-test\n",
    "- *clicks*: numerator for a two-proportion z-test\n",
    "- *created_at*: this tells us when the factor was created\n",
    "- *winner*: this tells us the ground truth winner - only useful for verification\n",
    "\n",
    "The rest have more to do with online content than headlines. We want to test headlines only here."
   ]
  },
  {
   "cell_type": "markdown",
   "metadata": {
    "vscode": {
     "languageId": "python"
    }
   },
   "source": [
    "### Key step: Make a data cleaning function\n",
    "\n",
    "We will take this function and put it in a script when we finish, that way we can call it instead of relying on notebooks for key components of an analysis."
   ]
  },
  {
   "cell_type": "code",
   "execution_count": 3,
   "metadata": {
    "vscode": {
     "languageId": "python"
    }
   },
   "outputs": [],
   "source": [
    "## always make a copy of the original for reference\n",
    "df = raw_data.copy()"
   ]
  },
  {
   "cell_type": "code",
   "execution_count": 4,
   "metadata": {
    "vscode": {
     "languageId": "python"
    }
   },
   "outputs": [
    {
     "data": {
      "text/plain": [
       "Index(['Unnamed: 0', 'created_at', 'updated_at', 'clickability_test_id',\n",
       "       'excerpt', 'headline', 'lede', 'slug', 'eyecatcher_id', 'impressions',\n",
       "       'clicks', 'significance', 'first_place', 'winner', 'share_text',\n",
       "       'square', 'test_week'],\n",
       "      dtype='object')"
      ]
     },
     "execution_count": null,
     "metadata": {},
     "output_type": "execute_result"
    }
   ],
   "source": [
    "raw_data.columns"
   ]
  },
  {
   "cell_type": "code",
   "execution_count": 5,
   "metadata": {
    "vscode": {
     "languageId": "python"
    }
   },
   "outputs": [],
   "source": [
    "select_cols = ['clickability_test_id', 'created_at', 'headline', 'impressions', 'clicks','winner']"
   ]
  },
  {
   "cell_type": "code",
   "execution_count": 6,
   "metadata": {
    "vscode": {
     "languageId": "python"
    }
   },
   "outputs": [
    {
     "name": "stdout",
     "output_type": "stream",
     "text": [
      "(22666, 17)\n",
      "(22666, 6)\n"
     ]
    }
   ],
   "source": [
    "## select only the columns we need\n",
    "print(raw_data.shape)\n",
    "raw_data = raw_data[select_cols]\n",
    "print(raw_data.shape)"
   ]
  },
  {
   "cell_type": "code",
   "execution_count": 7,
   "metadata": {
    "vscode": {
     "languageId": "python"
    }
   },
   "outputs": [
    {
     "data": {
      "text/html": [
       "<div>\n",
       "<style scoped>\n",
       "    .dataframe tbody tr th:only-of-type {\n",
       "        vertical-align: middle;\n",
       "    }\n",
       "\n",
       "    .dataframe tbody tr th {\n",
       "        vertical-align: top;\n",
       "    }\n",
       "\n",
       "    .dataframe thead th {\n",
       "        text-align: right;\n",
       "    }\n",
       "</style>\n",
       "<table border=\"1\" class=\"dataframe\">\n",
       "  <thead>\n",
       "    <tr style=\"text-align: right;\">\n",
       "      <th></th>\n",
       "      <th>clickability_test_id</th>\n",
       "      <th>created_at</th>\n",
       "      <th>headline</th>\n",
       "      <th>impressions</th>\n",
       "      <th>clicks</th>\n",
       "      <th>winner</th>\n",
       "    </tr>\n",
       "  </thead>\n",
       "  <tbody>\n",
       "    <tr>\n",
       "      <th>0</th>\n",
       "      <td>546d88fb84ad38b2ce000024</td>\n",
       "      <td>2014-11-20 06:43:16.005</td>\n",
       "      <td>They're Being Called 'Walmart's Worst Nightmar...</td>\n",
       "      <td>3052</td>\n",
       "      <td>150</td>\n",
       "      <td>True</td>\n",
       "    </tr>\n",
       "    <tr>\n",
       "      <th>1</th>\n",
       "      <td>546d88fb84ad38b2ce000024</td>\n",
       "      <td>2014-11-20 06:43:44.646</td>\n",
       "      <td>They're Being Called 'Walmart's Worst Nightmar...</td>\n",
       "      <td>3033</td>\n",
       "      <td>122</td>\n",
       "      <td>False</td>\n",
       "    </tr>\n",
       "    <tr>\n",
       "      <th>2</th>\n",
       "      <td>546d88fb84ad38b2ce000024</td>\n",
       "      <td>2014-11-20 06:44:59.804</td>\n",
       "      <td>They're Being Called 'Walmart's Worst Nightmar...</td>\n",
       "      <td>3092</td>\n",
       "      <td>110</td>\n",
       "      <td>False</td>\n",
       "    </tr>\n",
       "    <tr>\n",
       "      <th>3</th>\n",
       "      <td>546d902c26714c6c44000039</td>\n",
       "      <td>2014-11-20 06:54:36.335</td>\n",
       "      <td>This Is What Sexism Against Men Sounds Like</td>\n",
       "      <td>3526</td>\n",
       "      <td>90</td>\n",
       "      <td>False</td>\n",
       "    </tr>\n",
       "    <tr>\n",
       "      <th>4</th>\n",
       "      <td>546d902c26714c6c44000039</td>\n",
       "      <td>2014-11-20 06:54:57.878</td>\n",
       "      <td>This Is What Sexism Against Men Sounds Like</td>\n",
       "      <td>3506</td>\n",
       "      <td>120</td>\n",
       "      <td>False</td>\n",
       "    </tr>\n",
       "  </tbody>\n",
       "</table>\n",
       "</div>"
      ],
      "text/plain": [
       "       clickability_test_id               created_at  \\\n",
       "0  546d88fb84ad38b2ce000024  2014-11-20 06:43:16.005   \n",
       "1  546d88fb84ad38b2ce000024  2014-11-20 06:43:44.646   \n",
       "2  546d88fb84ad38b2ce000024  2014-11-20 06:44:59.804   \n",
       "3  546d902c26714c6c44000039  2014-11-20 06:54:36.335   \n",
       "4  546d902c26714c6c44000039  2014-11-20 06:54:57.878   \n",
       "\n",
       "                                            headline  impressions  clicks  \\\n",
       "0  They're Being Called 'Walmart's Worst Nightmar...         3052     150   \n",
       "1  They're Being Called 'Walmart's Worst Nightmar...         3033     122   \n",
       "2  They're Being Called 'Walmart's Worst Nightmar...         3092     110   \n",
       "3        This Is What Sexism Against Men Sounds Like         3526      90   \n",
       "4        This Is What Sexism Against Men Sounds Like         3506     120   \n",
       "\n",
       "   winner  \n",
       "0    True  \n",
       "1   False  \n",
       "2   False  \n",
       "3   False  \n",
       "4   False  "
      ]
     },
     "execution_count": null,
     "metadata": {},
     "output_type": "execute_result"
    }
   ],
   "source": [
    "raw_data.head()"
   ]
  },
  {
   "cell_type": "code",
   "execution_count": 8,
   "metadata": {
    "vscode": {
     "languageId": "python"
    }
   },
   "outputs": [],
   "source": [
    "raw_data['created_at'] = pd.to_datetime(raw_data['created_at'], format = 'mixed')"
   ]
  },
  {
   "cell_type": "code",
   "execution_count": 9,
   "metadata": {
    "vscode": {
     "languageId": "python"
    }
   },
   "outputs": [
    {
     "name": "stdout",
     "output_type": "stream",
     "text": [
      "(17547, 6)\n"
     ]
    }
   ],
   "source": [
    "## remove non-randomized tests\n",
    "raw_data = raw_data[~raw_data['created_at'].between(\"2013-06-01\", \"2014-01-31\")].copy()\n",
    "print(raw_data.shape)"
   ]
  },
  {
   "cell_type": "markdown",
   "metadata": {},
   "source": [
    "Great, now let's add a proportion feature, rounded to 5 decimals, and a second table with tests and observation counts."
   ]
  },
  {
   "cell_type": "code",
   "execution_count": 10,
   "metadata": {
    "vscode": {
     "languageId": "python"
    }
   },
   "outputs": [],
   "source": [
    "raw_data['proportion'] = raw_data['clicks'] / raw_data['impressions']"
   ]
  },
  {
   "cell_type": "markdown",
   "metadata": {
    "vscode": {
     "languageId": "python"
    }
   },
   "source": [
    "We are seeing 3,611 tests. 85 of them have two levels. Suggesting 3526 have 3+ levels. This is a bit unexpected, so we will investigate one of these multi-level tests."
   ]
  },
  {
   "cell_type": "code",
   "execution_count": 11,
   "metadata": {
    "vscode": {
     "languageId": "python"
    }
   },
   "outputs": [],
   "source": [
    "counts = raw_data.value_counts('clickability_test_id').to_frame().reset_index()"
   ]
  },
  {
   "cell_type": "code",
   "execution_count": 12,
   "metadata": {
    "vscode": {
     "languageId": "python"
    }
   },
   "outputs": [
    {
     "data": {
      "text/html": [
       "<div>\n",
       "<style scoped>\n",
       "    .dataframe tbody tr th:only-of-type {\n",
       "        vertical-align: middle;\n",
       "    }\n",
       "\n",
       "    .dataframe tbody tr th {\n",
       "        vertical-align: top;\n",
       "    }\n",
       "\n",
       "    .dataframe thead th {\n",
       "        text-align: right;\n",
       "    }\n",
       "</style>\n",
       "<table border=\"1\" class=\"dataframe\">\n",
       "  <thead>\n",
       "    <tr style=\"text-align: right;\">\n",
       "      <th></th>\n",
       "      <th>clickability_test_id</th>\n",
       "      <th>count</th>\n",
       "    </tr>\n",
       "  </thead>\n",
       "  <tbody>\n",
       "    <tr>\n",
       "      <th>0</th>\n",
       "      <td>53480581be4154443a000008</td>\n",
       "      <td>14</td>\n",
       "    </tr>\n",
       "  </tbody>\n",
       "</table>\n",
       "</div>"
      ],
      "text/plain": [
       "       clickability_test_id  count\n",
       "0  53480581be4154443a000008     14"
      ]
     },
     "execution_count": null,
     "metadata": {},
     "output_type": "execute_result"
    }
   ],
   "source": [
    "counts[counts['count'] == counts['count'].max()]"
   ]
  },
  {
   "cell_type": "code",
   "execution_count": 13,
   "metadata": {
    "vscode": {
     "languageId": "python"
    }
   },
   "outputs": [
    {
     "data": {
      "text/html": [
       "<div>\n",
       "<style scoped>\n",
       "    .dataframe tbody tr th:only-of-type {\n",
       "        vertical-align: middle;\n",
       "    }\n",
       "\n",
       "    .dataframe tbody tr th {\n",
       "        vertical-align: top;\n",
       "    }\n",
       "\n",
       "    .dataframe thead th {\n",
       "        text-align: right;\n",
       "    }\n",
       "</style>\n",
       "<table border=\"1\" class=\"dataframe\">\n",
       "  <thead>\n",
       "    <tr style=\"text-align: right;\">\n",
       "      <th></th>\n",
       "      <th>clickability_test_id</th>\n",
       "      <th>count</th>\n",
       "    </tr>\n",
       "  </thead>\n",
       "  <tbody>\n",
       "    <tr>\n",
       "      <th>3526</th>\n",
       "      <td>533e2fecc383387fef000008</td>\n",
       "      <td>2</td>\n",
       "    </tr>\n",
       "    <tr>\n",
       "      <th>3527</th>\n",
       "      <td>54db6a6338666500280c0000</td>\n",
       "      <td>2</td>\n",
       "    </tr>\n",
       "    <tr>\n",
       "      <th>3528</th>\n",
       "      <td>532f40df995b7efb01000006</td>\n",
       "      <td>2</td>\n",
       "    </tr>\n",
       "    <tr>\n",
       "      <th>3529</th>\n",
       "      <td>5342d8b4df3e0e21c4000043</td>\n",
       "      <td>2</td>\n",
       "    </tr>\n",
       "    <tr>\n",
       "      <th>3530</th>\n",
       "      <td>541828d893f63351ec00003e</td>\n",
       "      <td>2</td>\n",
       "    </tr>\n",
       "    <tr>\n",
       "      <th>...</th>\n",
       "      <td>...</td>\n",
       "      <td>...</td>\n",
       "    </tr>\n",
       "    <tr>\n",
       "      <th>3606</th>\n",
       "      <td>53f63f7f3887042eaf000015</td>\n",
       "      <td>2</td>\n",
       "    </tr>\n",
       "    <tr>\n",
       "      <th>3607</th>\n",
       "      <td>5189a0d6d971067ca4001e18</td>\n",
       "      <td>2</td>\n",
       "    </tr>\n",
       "    <tr>\n",
       "      <th>3608</th>\n",
       "      <td>5470c9d40e78bd40ad000034</td>\n",
       "      <td>2</td>\n",
       "    </tr>\n",
       "    <tr>\n",
       "      <th>3609</th>\n",
       "      <td>54d19fde6466610019170000</td>\n",
       "      <td>2</td>\n",
       "    </tr>\n",
       "    <tr>\n",
       "      <th>3610</th>\n",
       "      <td>540e59af4c80412fe9000024</td>\n",
       "      <td>2</td>\n",
       "    </tr>\n",
       "  </tbody>\n",
       "</table>\n",
       "<p>85 rows × 2 columns</p>\n",
       "</div>"
      ],
      "text/plain": [
       "          clickability_test_id  count\n",
       "3526  533e2fecc383387fef000008      2\n",
       "3527  54db6a6338666500280c0000      2\n",
       "3528  532f40df995b7efb01000006      2\n",
       "3529  5342d8b4df3e0e21c4000043      2\n",
       "3530  541828d893f63351ec00003e      2\n",
       "...                        ...    ...\n",
       "3606  53f63f7f3887042eaf000015      2\n",
       "3607  5189a0d6d971067ca4001e18      2\n",
       "3608  5470c9d40e78bd40ad000034      2\n",
       "3609  54d19fde6466610019170000      2\n",
       "3610  540e59af4c80412fe9000024      2\n",
       "\n",
       "[85 rows x 2 columns]"
      ]
     },
     "execution_count": null,
     "metadata": {},
     "output_type": "execute_result"
    }
   ],
   "source": [
    "counts[counts['count'] == 2]"
   ]
  },
  {
   "cell_type": "code",
   "execution_count": 14,
   "metadata": {
    "vscode": {
     "languageId": "python"
    }
   },
   "outputs": [],
   "source": [
    "pd.set_option('display.max_colwidth', None) "
   ]
  },
  {
   "cell_type": "markdown",
   "metadata": {},
   "source": [
    "This adds complexity. We are testing *headlines only* and these headlines are identical. As such, we need to rethink how we clean this data. It's obvious that there is one-level of headline data in this observation.\n",
    "\n",
    "As such, it seems that we need to groupby and count the number of unique headlines per clickability_test_id. This many eliminate some tests, which is okay. We aren't interested in them anyways!"
   ]
  },
  {
   "cell_type": "code",
   "execution_count": 15,
   "metadata": {
    "vscode": {
     "languageId": "python"
    }
   },
   "outputs": [
    {
     "data": {
      "text/plain": [
       "12581    This Dad Has A Message To The Boys Who Want To Date His Daughter. ADDENDUM: Also, The Girls.\n",
       "12587    This Dad Has A Message To The Boys Who Want To Date His Daughter. ADDENDUM: Also, The Girls.\n",
       "12616    This Dad Has A Message To The Boys Who Want To Date His Daughter. ADDENDUM: Also, The Girls.\n",
       "12632    This Dad Has A Message To The Boys Who Want To Date His Daughter. ADDENDUM: Also, The Girls.\n",
       "12654    This Dad Has A Message To The Boys Who Want To Date His Daughter. ADDENDUM: Also, The Girls.\n",
       "12670    This Dad Has A Message To The Boys Who Want To Date His Daughter. ADDENDUM: Also, The Girls.\n",
       "12687    This Dad Has A Message To The Boys Who Want To Date His Daughter. ADDENDUM: Also, The Girls.\n",
       "12718    This Dad Has A Message To The Boys Who Want To Date His Daughter. ADDENDUM: Also, The Girls.\n",
       "12720    This Dad Has A Message To The Boys Who Want To Date His Daughter. ADDENDUM: Also, The Girls.\n",
       "12759    This Dad Has A Message To The Boys Who Want To Date His Daughter. ADDENDUM: Also, The Girls.\n",
       "12782    This Dad Has A Message To The Boys Who Want To Date His Daughter. ADDENDUM: Also, The Girls.\n",
       "12862    This Dad Has A Message To The Boys Who Want To Date His Daughter. ADDENDUM: Also, The Girls.\n",
       "12869    This Dad Has A Message To The Boys Who Want To Date His Daughter. ADDENDUM: Also, The Girls.\n",
       "13039    This Dad Has A Message To The Boys Who Want To Date His Daughter. ADDENDUM: Also, The Girls.\n",
       "Name: headline, dtype: object"
      ]
     },
     "execution_count": null,
     "metadata": {},
     "output_type": "execute_result"
    }
   ],
   "source": [
    "raw_data[raw_data['clickability_test_id'] == '53480581be4154443a000008']['headline']"
   ]
  },
  {
   "cell_type": "markdown",
   "metadata": {},
   "source": [
    "We have some tests that have one headline - those need to be dropped from the dataset. We cannot test one headline against itself.\n",
    "\n",
    "There are some that show multiple headline levels. We will need to test these factors, but first let's make sure these actually are unique headlines and not just random punctuation mistakes."
   ]
  },
  {
   "cell_type": "code",
   "execution_count": 16,
   "metadata": {
    "vscode": {
     "languageId": "python"
    }
   },
   "outputs": [
    {
     "data": {
      "text/html": [
       "<div>\n",
       "<style scoped>\n",
       "    .dataframe tbody tr th:only-of-type {\n",
       "        vertical-align: middle;\n",
       "    }\n",
       "\n",
       "    .dataframe tbody tr th {\n",
       "        vertical-align: top;\n",
       "    }\n",
       "\n",
       "    .dataframe thead th {\n",
       "        text-align: right;\n",
       "    }\n",
       "</style>\n",
       "<table border=\"1\" class=\"dataframe\">\n",
       "  <thead>\n",
       "    <tr style=\"text-align: right;\">\n",
       "      <th></th>\n",
       "      <th>clickability_test_id</th>\n",
       "      <th>headline</th>\n",
       "    </tr>\n",
       "  </thead>\n",
       "  <tbody>\n",
       "    <tr>\n",
       "      <th>3610</th>\n",
       "      <td>55415ee3313766000c200000</td>\n",
       "      <td>1</td>\n",
       "    </tr>\n",
       "    <tr>\n",
       "      <th>1381</th>\n",
       "      <td>53d9e44345ba39cd440000c0</td>\n",
       "      <td>1</td>\n",
       "    </tr>\n",
       "    <tr>\n",
       "      <th>2752</th>\n",
       "      <td>54836027663239001e260000</td>\n",
       "      <td>1</td>\n",
       "    </tr>\n",
       "    <tr>\n",
       "      <th>1379</th>\n",
       "      <td>53d9399ffb557468d5000027</td>\n",
       "      <td>1</td>\n",
       "    </tr>\n",
       "    <tr>\n",
       "      <th>1378</th>\n",
       "      <td>53d92ec6fb5574a15d00002f</td>\n",
       "      <td>1</td>\n",
       "    </tr>\n",
       "    <tr>\n",
       "      <th>...</th>\n",
       "      <td>...</td>\n",
       "      <td>...</td>\n",
       "    </tr>\n",
       "    <tr>\n",
       "      <th>1523</th>\n",
       "      <td>53ed7f020d60d09e74000078</td>\n",
       "      <td>9</td>\n",
       "    </tr>\n",
       "    <tr>\n",
       "      <th>1560</th>\n",
       "      <td>53f42ff444df8303dd00001d</td>\n",
       "      <td>10</td>\n",
       "    </tr>\n",
       "    <tr>\n",
       "      <th>2406</th>\n",
       "      <td>5452940303b89045df000063</td>\n",
       "      <td>10</td>\n",
       "    </tr>\n",
       "    <tr>\n",
       "      <th>362</th>\n",
       "      <td>530803f8f3b21fc7e900002f</td>\n",
       "      <td>11</td>\n",
       "    </tr>\n",
       "    <tr>\n",
       "      <th>364</th>\n",
       "      <td>5308c3271e030e5930000003</td>\n",
       "      <td>12</td>\n",
       "    </tr>\n",
       "  </tbody>\n",
       "</table>\n",
       "<p>3611 rows × 2 columns</p>\n",
       "</div>"
      ],
      "text/plain": [
       "          clickability_test_id  headline\n",
       "3610  55415ee3313766000c200000         1\n",
       "1381  53d9e44345ba39cd440000c0         1\n",
       "2752  54836027663239001e260000         1\n",
       "1379  53d9399ffb557468d5000027         1\n",
       "1378  53d92ec6fb5574a15d00002f         1\n",
       "...                        ...       ...\n",
       "1523  53ed7f020d60d09e74000078         9\n",
       "1560  53f42ff444df8303dd00001d        10\n",
       "2406  5452940303b89045df000063        10\n",
       "362   530803f8f3b21fc7e900002f        11\n",
       "364   5308c3271e030e5930000003        12\n",
       "\n",
       "[3611 rows x 2 columns]"
      ]
     },
     "execution_count": null,
     "metadata": {},
     "output_type": "execute_result"
    }
   ],
   "source": [
    "levels = raw_data.groupby(['clickability_test_id'])['headline'].nunique().to_frame().reset_index()\n",
    "levels.sort_values(by = 'headline')"
   ]
  },
  {
   "cell_type": "markdown",
   "metadata": {},
   "source": [
    "The data below show that these are different headlines. They're mentioning different famous people, which might change the number of impressions or clicks. I see the point here, but this feels a bit like over doing it. Were I developing this test, I'd discourage this. It's a test that is possible but it feels like someone is overthinking it.\n",
    "\n",
    "Either way, we can test this data as-is."
   ]
  },
  {
   "cell_type": "code",
   "execution_count": 17,
   "metadata": {
    "vscode": {
     "languageId": "python"
    }
   },
   "outputs": [
    {
     "data": {
      "text/plain": [
       "5379     Pink, Ellen, Katy Perry, And A Hockey Player Walk Into A Commercial And Destroy A Silly Argument\n",
       "5380        Ellen, Sofia Vergara, And A Hockey Player Walk Into A Commercial And Destroy A Silly Argument\n",
       "5381                   Ellen, A Rapper And Katy Perry Walk Into A Commercial And Destroy A Silly Argument\n",
       "5382              Ellen, A Rapper And A Hockey Player Walk Into A Commercial And Destroy A Silly Argument\n",
       "5383                   Ellen, Janelle Monae, And Pink Walk Into A Commercial And Destroy A Silly Argument\n",
       "5384        Ellen, Janelle Monae, And A Hockey Player Walk Into A Commercial And Destroy A Silly Argument\n",
       "5385                   Ellen, Pink, And Sofia Vergara Walk Into A Commercial And Destroy A Silly Argument\n",
       "5386                 Ellen, Pink, And A Hockey Player Walk Into A Commercial And Destroy A Silly Argument\n",
       "5387        A Comedian, A Rapper, And A Hockey Player Walk Into A Commercial And Destroy A Silly Argument\n",
       "5388                  Ellen, A Pop Star, And A Rapper Walk Into A Commercial And Destroy A Silly Argument\n",
       "11846            Ellen, A Rapper, And A Grammy Winner Walk Into A Commercial And Destroy A Silly Argument\n",
       "11847              Ellen, Sofia Vergara, And A Rapper Walk Into A Commercial And Destroy A Silly Argument\n",
       "Name: headline, dtype: object"
      ]
     },
     "execution_count": null,
     "metadata": {},
     "output_type": "execute_result"
    }
   ],
   "source": [
    "raw_data[raw_data['clickability_test_id'] == '5308c3271e030e5930000003']['headline']"
   ]
  },
  {
   "cell_type": "code",
   "execution_count": 18,
   "metadata": {
    "vscode": {
     "languageId": "python"
    }
   },
   "outputs": [],
   "source": [
    "## use list notation to grab only the IDs with 2+ levels\n",
    "tests = [levels['clickability_test_id'][i] for i in range(len(levels)) if levels['headline'][i] > 1]"
   ]
  },
  {
   "cell_type": "markdown",
   "metadata": {},
   "source": [
    "As a result we get 1951 tests. We can work on custom logic to test each test by number of levels."
   ]
  },
  {
   "cell_type": "code",
   "execution_count": 19,
   "metadata": {
    "vscode": {
     "languageId": "python"
    }
   },
   "outputs": [
    {
     "data": {
      "text/plain": [
       "1951"
      ]
     },
     "execution_count": null,
     "metadata": {},
     "output_type": "execute_result"
    }
   ],
   "source": [
    "len(tests)"
   ]
  },
  {
   "cell_type": "markdown",
   "metadata": {},
   "source": [
    "It is possible that there are multiple lines containing impressions + clicks for the same headline. We need to check to see if we must groupby + sum these."
   ]
  },
  {
   "cell_type": "code",
   "execution_count": 20,
   "metadata": {
    "vscode": {
     "languageId": "python"
    }
   },
   "outputs": [
    {
     "data": {
      "text/plain": [
       "(17547, 7)"
      ]
     },
     "execution_count": null,
     "metadata": {},
     "output_type": "execute_result"
    }
   ],
   "source": [
    "raw_data.shape"
   ]
  },
  {
   "cell_type": "code",
   "execution_count": 21,
   "metadata": {
    "vscode": {
     "languageId": "python"
    }
   },
   "outputs": [
    {
     "data": {
      "text/html": [
       "<div>\n",
       "<style scoped>\n",
       "    .dataframe tbody tr th:only-of-type {\n",
       "        vertical-align: middle;\n",
       "    }\n",
       "\n",
       "    .dataframe tbody tr th {\n",
       "        vertical-align: top;\n",
       "    }\n",
       "\n",
       "    .dataframe thead th {\n",
       "        text-align: right;\n",
       "    }\n",
       "</style>\n",
       "<table border=\"1\" class=\"dataframe\">\n",
       "  <thead>\n",
       "    <tr style=\"text-align: right;\">\n",
       "      <th></th>\n",
       "      <th>clickability_test_id</th>\n",
       "      <th>headline</th>\n",
       "      <th>impressions</th>\n",
       "      <th>clicks</th>\n",
       "    </tr>\n",
       "  </thead>\n",
       "  <tbody>\n",
       "    <tr>\n",
       "      <th>0</th>\n",
       "      <td>51436061220cb800020001e7</td>\n",
       "      <td>Creationism Has Nothing To Do With Christianity According To Christian Dude</td>\n",
       "      <td>2551</td>\n",
       "      <td>39</td>\n",
       "    </tr>\n",
       "    <tr>\n",
       "      <th>1</th>\n",
       "      <td>51436061220cb800020001e7</td>\n",
       "      <td>Creationism Shouldn't Be Taught In Science Classes, According To This Guy.</td>\n",
       "      <td>2539</td>\n",
       "      <td>49</td>\n",
       "    </tr>\n",
       "    <tr>\n",
       "      <th>2</th>\n",
       "      <td>51436061220cb800020001e7</td>\n",
       "      <td>God Finds Out About Creationism And Sends A Representative To Put A Stop To It</td>\n",
       "      <td>2661</td>\n",
       "      <td>63</td>\n",
       "    </tr>\n",
       "    <tr>\n",
       "      <th>3</th>\n",
       "      <td>51436061220cb800020001e7</td>\n",
       "      <td>The One Where A Creationist Picks A Fight And Loses To A Priest</td>\n",
       "      <td>2629</td>\n",
       "      <td>68</td>\n",
       "    </tr>\n",
       "    <tr>\n",
       "      <th>4</th>\n",
       "      <td>51436069220cb800020005ae</td>\n",
       "      <td>The Advertisements You Read Every Day, Only Naked</td>\n",
       "      <td>1986</td>\n",
       "      <td>44</td>\n",
       "    </tr>\n",
       "    <tr>\n",
       "      <th>...</th>\n",
       "      <td>...</td>\n",
       "      <td>...</td>\n",
       "      <td>...</td>\n",
       "      <td>...</td>\n",
       "    </tr>\n",
       "    <tr>\n",
       "      <th>10296</th>\n",
       "      <td>55403be0393131002cf60000</td>\n",
       "      <td>When we're done with plastic, we send it on quite a journey. One that may make its way back to us.&lt;br&gt;</td>\n",
       "      <td>1983</td>\n",
       "      <td>4</td>\n",
       "    </tr>\n",
       "    <tr>\n",
       "      <th>10297</th>\n",
       "      <td>55413ef4333531000c180000</td>\n",
       "      <td>They spent 4 days in the swamp looking for a creature many thought extinct. On day 5, they found it.</td>\n",
       "      <td>2091</td>\n",
       "      <td>32</td>\n",
       "    </tr>\n",
       "    <tr>\n",
       "      <th>10298</th>\n",
       "      <td>55413ef4333531000c180000</td>\n",
       "      <td>They spent 4 days in the swamp looking for a monkey many thought extinct. On day 5, they found it.</td>\n",
       "      <td>2014</td>\n",
       "      <td>18</td>\n",
       "    </tr>\n",
       "    <tr>\n",
       "      <th>10299</th>\n",
       "      <td>554141c4383063001c110000</td>\n",
       "      <td>Sunshiny Vitamin D costs zero dollars and magically turns cholesterol into calcium</td>\n",
       "      <td>10140</td>\n",
       "      <td>24</td>\n",
       "    </tr>\n",
       "    <tr>\n",
       "      <th>10300</th>\n",
       "      <td>55415ee3313766000c200000</td>\n",
       "      <td>When heroin users overdose, their friends and family can keep them from dying. Here's how.</td>\n",
       "      <td>12180</td>\n",
       "      <td>60</td>\n",
       "    </tr>\n",
       "  </tbody>\n",
       "</table>\n",
       "<p>10301 rows × 4 columns</p>\n",
       "</div>"
      ],
      "text/plain": [
       "           clickability_test_id  \\\n",
       "0      51436061220cb800020001e7   \n",
       "1      51436061220cb800020001e7   \n",
       "2      51436061220cb800020001e7   \n",
       "3      51436061220cb800020001e7   \n",
       "4      51436069220cb800020005ae   \n",
       "...                         ...   \n",
       "10296  55403be0393131002cf60000   \n",
       "10297  55413ef4333531000c180000   \n",
       "10298  55413ef4333531000c180000   \n",
       "10299  554141c4383063001c110000   \n",
       "10300  55415ee3313766000c200000   \n",
       "\n",
       "                                                                                                     headline  \\\n",
       "0                                 Creationism Has Nothing To Do With Christianity According To Christian Dude   \n",
       "1                                  Creationism Shouldn't Be Taught In Science Classes, According To This Guy.   \n",
       "2                              God Finds Out About Creationism And Sends A Representative To Put A Stop To It   \n",
       "3                                             The One Where A Creationist Picks A Fight And Loses To A Priest   \n",
       "4                                                           The Advertisements You Read Every Day, Only Naked   \n",
       "...                                                                                                       ...   \n",
       "10296  When we're done with plastic, we send it on quite a journey. One that may make its way back to us.<br>   \n",
       "10297    They spent 4 days in the swamp looking for a creature many thought extinct. On day 5, they found it.   \n",
       "10298      They spent 4 days in the swamp looking for a monkey many thought extinct. On day 5, they found it.   \n",
       "10299                      Sunshiny Vitamin D costs zero dollars and magically turns cholesterol into calcium   \n",
       "10300              When heroin users overdose, their friends and family can keep them from dying. Here's how.   \n",
       "\n",
       "       impressions  clicks  \n",
       "0             2551      39  \n",
       "1             2539      49  \n",
       "2             2661      63  \n",
       "3             2629      68  \n",
       "4             1986      44  \n",
       "...            ...     ...  \n",
       "10296         1983       4  \n",
       "10297         2091      32  \n",
       "10298         2014      18  \n",
       "10299        10140      24  \n",
       "10300        12180      60  \n",
       "\n",
       "[10301 rows x 4 columns]"
      ]
     },
     "execution_count": null,
     "metadata": {},
     "output_type": "execute_result"
    }
   ],
   "source": [
    "raw_data.groupby(['clickability_test_id','headline'], as_index = False)[['impressions', 'clicks']].sum()"
   ]
  },
  {
   "cell_type": "markdown",
   "metadata": {
    "vscode": {
     "languageId": "python"
    }
   },
   "source": [
    "The shape decreased, therefore we did have duplicate lines for headlines. We need to add this as a final step in our data cleaning."
   ]
  },
  {
   "cell_type": "markdown",
   "metadata": {
    "vscode": {
     "languageId": "python"
    }
   },
   "source": [
    "Lets get all of this into a function."
   ]
  },
  {
   "cell_type": "code",
   "execution_count": 22,
   "metadata": {
    "vscode": {
     "languageId": "python"
    }
   },
   "outputs": [],
   "source": [
    "def clean_data(df):\n",
    "    ### identify columns of interest\n",
    "    select_cols = ['clickability_test_id', 'created_at', 'headline', 'impressions', 'clicks','winner']\n",
    "    \n",
    "    ### select only these columns\n",
    "    df = df[select_cols]\n",
    "\n",
    "    ### convert to datetime\n",
    "    df['created_at'] = pd.to_datetime(df['created_at'], format = 'mixed')\n",
    "\n",
    "    ### filter out bad experiments due to non-randomization\n",
    "    df = df[~df['created_at'].between(\"2013-06-01\", \"2014-01-31\")]\n",
    "\n",
    "    ### identify unique number of headlines tested per test\n",
    "    levels = df.groupby(['clickability_test_id'])['headline'].nunique().to_frame().reset_index()\n",
    "\n",
    "    ### identify the 2+ tests\n",
    "    tests = [levels['clickability_test_id'][i] for i in range(len(levels)) if levels['headline'][i] > 1]\n",
    "\n",
    "    ### select only the possible tests\n",
    "    df = df[df['clickability_test_id'].isin(tests)]\n",
    "\n",
    "    ### group the data to combine impressions and clicks at the headline level\n",
    "    dfgrouped = df.groupby(['clickability_test_id','headline'], as_index = False)[['impressions', 'clicks']].sum()\n",
    "\n",
    "    ### create the proportion column for any two-prop z-tests\n",
    "    dfgrouped['proportion'] = dfgrouped['clicks'] / dfgrouped['impressions']\n",
    "\n",
    "    return dfgrouped\n",
    "    \n"
   ]
  },
  {
   "cell_type": "code",
   "execution_count": 23,
   "metadata": {
    "vscode": {
     "languageId": "python"
    }
   },
   "outputs": [
    {
     "name": "stdout",
     "output_type": "stream",
     "text": [
      "1951\n"
     ]
    },
    {
     "name": "stderr",
     "output_type": "stream",
     "text": [
      "<positron-console-cell-23>:9: SettingWithCopyWarning: \n",
      "A value is trying to be set on a copy of a slice from a DataFrame.\n",
      "Try using .loc[row_indexer,col_indexer] = value instead\n",
      "\n",
      "See the caveats in the documentation: https://pandas.pydata.org/pandas-docs/stable/user_guide/indexing.html#returning-a-view-versus-a-copy\n"
     ]
    },
    {
     "data": {
      "text/html": [
       "<div>\n",
       "<style scoped>\n",
       "    .dataframe tbody tr th:only-of-type {\n",
       "        vertical-align: middle;\n",
       "    }\n",
       "\n",
       "    .dataframe tbody tr th {\n",
       "        vertical-align: top;\n",
       "    }\n",
       "\n",
       "    .dataframe thead th {\n",
       "        text-align: right;\n",
       "    }\n",
       "</style>\n",
       "<table border=\"1\" class=\"dataframe\">\n",
       "  <thead>\n",
       "    <tr style=\"text-align: right;\">\n",
       "      <th></th>\n",
       "      <th>clickability_test_id</th>\n",
       "      <th>headline</th>\n",
       "      <th>impressions</th>\n",
       "      <th>clicks</th>\n",
       "      <th>proportion</th>\n",
       "    </tr>\n",
       "  </thead>\n",
       "  <tbody>\n",
       "    <tr>\n",
       "      <th>0</th>\n",
       "      <td>51436061220cb800020001e7</td>\n",
       "      <td>Creationism Has Nothing To Do With Christianity According To Christian Dude</td>\n",
       "      <td>2551</td>\n",
       "      <td>39</td>\n",
       "      <td>0.015288</td>\n",
       "    </tr>\n",
       "    <tr>\n",
       "      <th>1</th>\n",
       "      <td>51436061220cb800020001e7</td>\n",
       "      <td>Creationism Shouldn't Be Taught In Science Classes, According To This Guy.</td>\n",
       "      <td>2539</td>\n",
       "      <td>49</td>\n",
       "      <td>0.019299</td>\n",
       "    </tr>\n",
       "    <tr>\n",
       "      <th>2</th>\n",
       "      <td>51436061220cb800020001e7</td>\n",
       "      <td>God Finds Out About Creationism And Sends A Representative To Put A Stop To It</td>\n",
       "      <td>2661</td>\n",
       "      <td>63</td>\n",
       "      <td>0.023675</td>\n",
       "    </tr>\n",
       "    <tr>\n",
       "      <th>3</th>\n",
       "      <td>51436061220cb800020001e7</td>\n",
       "      <td>The One Where A Creationist Picks A Fight And Loses To A Priest</td>\n",
       "      <td>2629</td>\n",
       "      <td>68</td>\n",
       "      <td>0.025865</td>\n",
       "    </tr>\n",
       "    <tr>\n",
       "      <th>4</th>\n",
       "      <td>51436069220cb800020005ae</td>\n",
       "      <td>The Advertisements You Read Every Day, Only Naked</td>\n",
       "      <td>1986</td>\n",
       "      <td>44</td>\n",
       "      <td>0.022155</td>\n",
       "    </tr>\n",
       "  </tbody>\n",
       "</table>\n",
       "</div>"
      ],
      "text/plain": [
       "       clickability_test_id  \\\n",
       "0  51436061220cb800020001e7   \n",
       "1  51436061220cb800020001e7   \n",
       "2  51436061220cb800020001e7   \n",
       "3  51436061220cb800020001e7   \n",
       "4  51436069220cb800020005ae   \n",
       "\n",
       "                                                                         headline  \\\n",
       "0     Creationism Has Nothing To Do With Christianity According To Christian Dude   \n",
       "1      Creationism Shouldn't Be Taught In Science Classes, According To This Guy.   \n",
       "2  God Finds Out About Creationism And Sends A Representative To Put A Stop To It   \n",
       "3                 The One Where A Creationist Picks A Fight And Loses To A Priest   \n",
       "4                               The Advertisements You Read Every Day, Only Naked   \n",
       "\n",
       "   impressions  clicks  proportion  \n",
       "0         2551      39    0.015288  \n",
       "1         2539      49    0.019299  \n",
       "2         2661      63    0.023675  \n",
       "3         2629      68    0.025865  \n",
       "4         1986      44    0.022155  "
      ]
     },
     "execution_count": null,
     "metadata": {},
     "output_type": "execute_result"
    }
   ],
   "source": [
    "output = clean_data(df)\n",
    "print(output['clickability_test_id'].nunique())\n",
    "output.head()"
   ]
  },
  {
   "cell_type": "markdown",
   "metadata": {},
   "source": [
    "### Cleaning takeaways\n",
    "\n",
    "- The owners of the datset were testing more than just headlines. These could have been multivariate tests (headline + lede/slug interaction) or univariate on a different level. That's different than what we're doing here, but okay.\n",
    "\n",
    "- The headlines are extremely clickbait-y\n",
    "\n",
    "- We need to account for the multiple levels of this test"
   ]
  }
 ],
 "metadata": {
  "language_info": {
   "name": "plaintext"
  }
 },
 "nbformat": 4,
 "nbformat_minor": 2
}
