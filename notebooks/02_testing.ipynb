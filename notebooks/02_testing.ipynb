{
 "cells": [
  {
   "cell_type": "code",
   "execution_count": 1,
   "metadata": {
    "vscode": {
     "languageId": "python"
    }
   },
   "outputs": [],
   "source": [
    "import pandas as pd\n",
    "import numpy as np\n",
    "\n",
    "from pathlib import Path\n",
    "import sys\n",
    "\n",
    "from scipy.stats import chi2_contingency\n",
    "from statsmodels.stats.power import GofChisquarePower\n",
    "\n",
    "# Add src/ to path for custom module imports\n",
    "project_root = Path().resolve().parents[0]\n",
    "sys.path.append(str(project_root / \"src\"))\n",
    "\n",
    "from paths import CLEAN_DATA_DIR"
   ]
  },
  {
   "cell_type": "code",
   "execution_count": 2,
   "metadata": {
    "vscode": {
     "languageId": "python"
    }
   },
   "outputs": [],
   "source": [
    "cleaned_data = pd.read_parquet(CLEAN_DATA_DIR / \"cleaned_experiments.parquet\")"
   ]
  },
  {
   "cell_type": "markdown",
   "metadata": {
    "vscode": {
     "languageId": "python"
    }
   },
   "source": [
    "### Our challenge\n",
    "\n",
    "We have a series of 2 level tests - those are a simple two-proportion Z-test and corresponding power calculation. We also have 3+ level tests. Those need a chi-squared contingency table. We want the power for that as well.\n",
    "\n",
    "#### Pairwise Z-tests and Multiple Comparisons\n",
    "We could look at the 3+ levels and run pairwise two-prop Z-tests, but that is unwise. More experiments = more errors. There are no benefits to multiple Z-tests, so we will not do that. Nobody should ever do multiple Z-tests fo the same factor levels. It is a poor decision every time.\n",
    "\n",
    "#### Keeping it simple\n",
    "For a test with 2 levels, the Chi-Squared and two-prop Z-tests yield identical results. The two-prop Z-tests only work two levels - they cannot adapt to 3+ levels. As such, we are only going to use chi-squared tests. This will keep the code simple without compromising our results.\n",
    "\n",
    "#### Power analysis\n",
    "We will used the observed results and Cohen's *w*. Usually we do a power analysis before the tests, but this is multiple years old data and I don't have the capacity to determine the necessary N for a given effect size. As such, we use Cohen's *w* as it is most logical in this case.\n",
    "\n",
    "#### The goal\n",
    "\n",
    "We need a function that will perform a statistical test, identify any winning headlines, and return the power associated with the test. Let's get to it."
   ]
  },
  {
   "cell_type": "code",
   "execution_count": 3,
   "metadata": {
    "vscode": {
     "languageId": "python"
    }
   },
   "outputs": [],
   "source": [
    "## start by making a copy\n",
    "df = cleaned_data.copy()"
   ]
  },
  {
   "cell_type": "code",
   "execution_count": 4,
   "metadata": {
    "vscode": {
     "languageId": "python"
    }
   },
   "outputs": [],
   "source": [
    "## put these into groups\n",
    "grouped = df.groupby(\"clickability_test_id\")\n",
    "\n",
    "## get the important data from grouped\n",
    "for test_id, group in grouped:\n",
    "    group = group.copy()\n",
    "    n_variants = group.shape[0]"
   ]
  },
  {
   "cell_type": "code",
   "execution_count": 5,
   "metadata": {
    "vscode": {
     "languageId": "python"
    }
   },
   "outputs": [
    {
     "name": "stdout",
     "output_type": "stream",
     "text": [
      "          clickability_test_id  \\\n",
      "8639  55413ef4333531000c180000   \n",
      "8640  55413ef4333531000c180000   \n",
      "\n",
      "                                               headline  impressions  clicks  \\\n",
      "8639  They spent 4 days in the swamp looking for a c...         2091      32   \n",
      "8640  They spent 4 days in the swamp looking for a m...         2014      18   \n",
      "\n",
      "      proportion  \n",
      "8639    0.015304  \n",
      "8640    0.008937  \n",
      "2\n"
     ]
    }
   ],
   "source": [
    "## this appears as expected\n",
    "print(group)\n",
    "print(n_variants)"
   ]
  },
  {
   "cell_type": "code",
   "execution_count": 6,
   "metadata": {
    "vscode": {
     "languageId": "python"
    }
   },
   "outputs": [],
   "source": [
    "# add in some logic that skips anything with less than 2 (shouldn't exist)\n",
    "# also skip anything with 0 impressions (shouldn't exist either)\n",
    "\n",
    "## this is commented out because we are not in the loop, but remember to add it later\n",
    "#if n_variants < 2 or (group['impressions'] == 0).any():\n",
    "#    continue\n",
    "\n",
    "impressions = group['impressions'].values\n",
    "clicks = group['clicks'].values\n",
    "ctr = group['proportion'].values"
   ]
  },
  {
   "cell_type": "code",
   "execution_count": 7,
   "metadata": {
    "vscode": {
     "languageId": "python"
    }
   },
   "outputs": [],
   "source": [
    "## create the contingency table\n",
    "data = np.vstack([clicks, impressions - clicks]).T"
   ]
  },
  {
   "cell_type": "code",
   "execution_count": 8,
   "metadata": {
    "vscode": {
     "languageId": "python"
    }
   },
   "outputs": [
    {
     "data": {
      "text/plain": [
       "array([[  32, 2059],\n",
       "       [  18, 1996]])"
      ]
     },
     "execution_count": null,
     "metadata": {},
     "output_type": "execute_result"
    }
   ],
   "source": [
    "data"
   ]
  },
  {
   "cell_type": "code",
   "execution_count": 9,
   "metadata": {
    "vscode": {
     "languageId": "python"
    }
   },
   "outputs": [],
   "source": [
    "chi2, pval, dof, expected = chi2_contingency(data)"
   ]
  },
  {
   "cell_type": "markdown",
   "metadata": {
    "vscode": {
     "languageId": "python"
    }
   },
   "source": [
    "If we reject the null, pick the highest CTR, else, no winner"
   ]
  },
  {
   "cell_type": "code",
   "execution_count": 10,
   "metadata": {
    "vscode": {
     "languageId": "python"
    }
   },
   "outputs": [],
   "source": [
    "## If we reject, identify winner as highest pval\n",
    "winner = None\n",
    "if pval < 0.05:\n",
    "    best_idx = np.argmax(ctr)\n",
    "    winner = group.iloc[best_idx]['headline']"
   ]
  },
  {
   "cell_type": "code",
   "execution_count": 11,
   "metadata": {
    "vscode": {
     "languageId": "python"
    }
   },
   "outputs": [],
   "source": [
    "# power estimate for these data\n",
    "total_n = impressions.sum()"
   ]
  },
  {
   "cell_type": "code",
   "execution_count": 12,
   "metadata": {
    "vscode": {
     "languageId": "python"
    }
   },
   "outputs": [
    {
     "name": "stdout",
     "output_type": "stream",
     "text": [
      "None\n"
     ]
    }
   ],
   "source": [
    "print(winner)"
   ]
  },
  {
   "cell_type": "code",
   "execution_count": 13,
   "metadata": {
    "vscode": {
     "languageId": "python"
    }
   },
   "outputs": [
    {
     "name": "stdout",
     "output_type": "stream",
     "text": [
      "0.40399074353086906\n"
     ]
    }
   ],
   "source": [
    "## Compute observed effect size (Cohen's w)\n",
    "effect_size = np.sqrt(chi2 / total_n)\n",
    "\n",
    "## define this upfront in the function\n",
    "power_calc = GofChisquarePower()\n",
    "\n",
    "## Estimate power using observed effect size\n",
    "power = power_calc.power(effect_size=effect_size, nobs=total_n, alpha=0.05, n_bins=n_variants)\n",
    "\n",
    "print(power)"
   ]
  },
  {
   "cell_type": "markdown",
   "metadata": {},
   "source": [
    "We have a no-winner, low power test. This is a statistician's nightmare. It leads to questions like \"why did we bother?\" or \"Did we set up the experiment correctly?\""
   ]
  },
  {
   "cell_type": "markdown",
   "metadata": {},
   "source": [
    "### Seting up tests matters: do not skip your sample size calculation\n",
    "\n",
    "The big takeaway from the test we performed above is that there was *no point in running the experiment.* Power = 0.40 means we had a 40% chance of detecting a true effect if we had rejected the null. We failed to reject the null, which is a valid outcome, but even if we had then it's more likely than not we rejected the null incorrectly. Leading to my statement of *\"why bother?\"*\n",
    "\n",
    "#### Getting it right - how I would have worked with my business partners\n",
    "\n",
    "I would have engaged with my business partners to help them understand both components of a statistical test and define the necessary sample sizes. That way, we could get valid results to help make better decisions in the long-term. It's possible that changing headlines is irrelevant - but we need a valid test to confirm that fact. Without the valid test we cannot draw those conclusions. It leads to two primary issues, in my mind:\n",
    "\n",
    "1) Wasted resources\n",
    "    - A poorly defined test wastes time and money. Don't bother doing it if you don't commit to doing it correctly\n",
    "2) Incorrect conclusions lead to implementing inefficiencies\n",
    "    - If we draw conclusions based on poorly defined tests, then we risk implementing incorrect procedures. Our \"best practices\" may be immaterial. The business becomes less efficient overall, makes more work for itself, or fails to capitalize on opportunities because of poor tests."
   ]
  },
  {
   "cell_type": "code",
   "execution_count": 14,
   "metadata": {
    "vscode": {
     "languageId": "python"
    }
   },
   "outputs": [],
   "source": [
    "def analyze_ab_tests(df, alpha=0.05):\n",
    "    results = []\n",
    "\n",
    "    grouped = df.groupby(\"clickability_test_id\")\n",
    "    power_calc = GofChisquarePower()\n",
    "\n",
    "    for test_id, group in grouped:\n",
    "        group = group.copy()\n",
    "        n_variants = group.shape[0]\n",
    "\n",
    "        ## these should not appear, but let's handle if they do\n",
    "        if n_variants < 2 or (group['impressions'] == 0).any():\n",
    "            continue\n",
    "\n",
    "        ### retriece results from the tests\n",
    "        impressions = group['impressions'].values\n",
    "        clicks = group['clicks'].values\n",
    "        ctr = group['proportion'].values\n",
    "\n",
    "        ## set up the contingency table\n",
    "        data = np.vstack([clicks, impressions - clicks]).T\n",
    "\n",
    "        ## get overall N\n",
    "        total_n = impressions.sum()\n",
    "\n",
    "        try:\n",
    "            chi2, pval, dof, expected = chi2_contingency(data)\n",
    "\n",
    "            ## get the effect size\n",
    "            effect_size = np.sqrt(chi2 / total_n)\n",
    "\n",
    "            ## get our power estimate\n",
    "            power = power_calc.power(effect_size=effect_size, nobs=total_n, alpha=alpha, n_bins=n_variants)\n",
    "\n",
    "        except Exception:\n",
    "            pval = np.nan\n",
    "            effect_size = np.nan\n",
    "            power = np.nan\n",
    "\n",
    "        winner = None\n",
    "        if pval < alpha:\n",
    "            best_idx = np.argmax(ctr)\n",
    "            winner = group.iloc[best_idx]['headline']\n",
    "\n",
    "        results.append({\n",
    "            \"test_id\": test_id,\n",
    "            \"n_variants\": n_variants,\n",
    "            \"p_value\": pval,\n",
    "            \"winner\": winner,\n",
    "            \"power_estimate\": power,\n",
    "            \"effect_size\": effect_size\n",
    "        })\n",
    "\n",
    "    return pd.DataFrame(results)\n"
   ]
  },
  {
   "cell_type": "code",
   "execution_count": 15,
   "metadata": {
    "vscode": {
     "languageId": "python"
    }
   },
   "outputs": [],
   "source": [
    "results = analyze_ab_tests(df, alpha=0.05)"
   ]
  },
  {
   "cell_type": "code",
   "execution_count": 16,
   "metadata": {
    "vscode": {
     "languageId": "python"
    }
   },
   "outputs": [
    {
     "name": "stdout",
     "output_type": "stream",
     "text": [
      "(1951, 6)\n"
     ]
    },
    {
     "data": {
      "text/html": [
       "<div>\n",
       "<style scoped>\n",
       "    .dataframe tbody tr th:only-of-type {\n",
       "        vertical-align: middle;\n",
       "    }\n",
       "\n",
       "    .dataframe tbody tr th {\n",
       "        vertical-align: top;\n",
       "    }\n",
       "\n",
       "    .dataframe thead th {\n",
       "        text-align: right;\n",
       "    }\n",
       "</style>\n",
       "<table border=\"1\" class=\"dataframe\">\n",
       "  <thead>\n",
       "    <tr style=\"text-align: right;\">\n",
       "      <th></th>\n",
       "      <th>test_id</th>\n",
       "      <th>n_variants</th>\n",
       "      <th>p_value</th>\n",
       "      <th>winner</th>\n",
       "      <th>power_estimate</th>\n",
       "      <th>effect_size</th>\n",
       "    </tr>\n",
       "  </thead>\n",
       "  <tbody>\n",
       "    <tr>\n",
       "      <th>1</th>\n",
       "      <td>51436069220cb800020005ae</td>\n",
       "      <td>5</td>\n",
       "      <td>2.029175e-05</td>\n",
       "      <td>The Advertisements You Read Every Day, Only Naked</td>\n",
       "      <td>0.993562</td>\n",
       "      <td>0.052454</td>\n",
       "    </tr>\n",
       "    <tr>\n",
       "      <th>3</th>\n",
       "      <td>5143606a220cb800020005c6</td>\n",
       "      <td>4</td>\n",
       "      <td>5.350506e-04</td>\n",
       "      <td>Her Mom Abandoned Her When She Found Out She H...</td>\n",
       "      <td>0.954769</td>\n",
       "      <td>0.039843</td>\n",
       "    </tr>\n",
       "    <tr>\n",
       "      <th>4</th>\n",
       "      <td>5143606b220cb800020005d7</td>\n",
       "      <td>5</td>\n",
       "      <td>2.746557e-06</td>\n",
       "      <td>Feminist Confuses Fox News Host By Suggesting ...</td>\n",
       "      <td>0.997939</td>\n",
       "      <td>0.053134</td>\n",
       "    </tr>\n",
       "    <tr>\n",
       "      <th>8</th>\n",
       "      <td>51436071220cb80002000788</td>\n",
       "      <td>4</td>\n",
       "      <td>1.198781e-03</td>\n",
       "      <td>How To Stop A Child From Smoking In 30 Seconds</td>\n",
       "      <td>0.932257</td>\n",
       "      <td>0.038705</td>\n",
       "    </tr>\n",
       "    <tr>\n",
       "      <th>9</th>\n",
       "      <td>51436073220cb8000200079c</td>\n",
       "      <td>4</td>\n",
       "      <td>4.771824e-03</td>\n",
       "      <td>7 Love Letters To Learning From The World's Sh...</td>\n",
       "      <td>0.869021</td>\n",
       "      <td>0.034417</td>\n",
       "    </tr>\n",
       "    <tr>\n",
       "      <th>...</th>\n",
       "      <td>...</td>\n",
       "      <td>...</td>\n",
       "      <td>...</td>\n",
       "      <td>...</td>\n",
       "      <td>...</td>\n",
       "      <td>...</td>\n",
       "    </tr>\n",
       "    <tr>\n",
       "      <th>1933</th>\n",
       "      <td>5537fb95666331002c230000</td>\n",
       "      <td>6</td>\n",
       "      <td>1.259798e-02</td>\n",
       "      <td>Sweet, naive Amy Schumer stumbles upon 3 show ...</td>\n",
       "      <td>0.853765</td>\n",
       "      <td>0.030924</td>\n",
       "    </tr>\n",
       "    <tr>\n",
       "      <th>1934</th>\n",
       "      <td>553825c7666331002c710300</td>\n",
       "      <td>2</td>\n",
       "      <td>8.108550e-04</td>\n",
       "      <td>John Oliver explains the totally slimy, comple...</td>\n",
       "      <td>0.917599</td>\n",
       "      <td>0.029670</td>\n",
       "    </tr>\n",
       "    <tr>\n",
       "      <th>1935</th>\n",
       "      <td>553950e2353130000ce20000</td>\n",
       "      <td>6</td>\n",
       "      <td>1.095320e-09</td>\n",
       "      <td>The things a black kid probably can't do that ...</td>\n",
       "      <td>0.999986</td>\n",
       "      <td>0.064464</td>\n",
       "    </tr>\n",
       "    <tr>\n",
       "      <th>1944</th>\n",
       "      <td>553fb55b616464000cfc0100</td>\n",
       "      <td>6</td>\n",
       "      <td>2.673924e-03</td>\n",
       "      <td>He tells the story of what 2 neo-Nazis did to ...</td>\n",
       "      <td>0.930329</td>\n",
       "      <td>0.038638</td>\n",
       "    </tr>\n",
       "    <tr>\n",
       "      <th>1948</th>\n",
       "      <td>553fdfd2316638000cbf0000</td>\n",
       "      <td>7</td>\n",
       "      <td>2.278134e-02</td>\n",
       "      <td>Ever heard of the Battle of Blair Mountain? Fe...</td>\n",
       "      <td>0.834083</td>\n",
       "      <td>0.026267</td>\n",
       "    </tr>\n",
       "  </tbody>\n",
       "</table>\n",
       "<p>778 rows × 6 columns</p>\n",
       "</div>"
      ],
      "text/plain": [
       "                       test_id  n_variants       p_value  \\\n",
       "1     51436069220cb800020005ae           5  2.029175e-05   \n",
       "3     5143606a220cb800020005c6           4  5.350506e-04   \n",
       "4     5143606b220cb800020005d7           5  2.746557e-06   \n",
       "8     51436071220cb80002000788           4  1.198781e-03   \n",
       "9     51436073220cb8000200079c           4  4.771824e-03   \n",
       "...                        ...         ...           ...   \n",
       "1933  5537fb95666331002c230000           6  1.259798e-02   \n",
       "1934  553825c7666331002c710300           2  8.108550e-04   \n",
       "1935  553950e2353130000ce20000           6  1.095320e-09   \n",
       "1944  553fb55b616464000cfc0100           6  2.673924e-03   \n",
       "1948  553fdfd2316638000cbf0000           7  2.278134e-02   \n",
       "\n",
       "                                                 winner  power_estimate  \\\n",
       "1     The Advertisements You Read Every Day, Only Naked        0.993562   \n",
       "3     Her Mom Abandoned Her When She Found Out She H...        0.954769   \n",
       "4     Feminist Confuses Fox News Host By Suggesting ...        0.997939   \n",
       "8        How To Stop A Child From Smoking In 30 Seconds        0.932257   \n",
       "9     7 Love Letters To Learning From The World's Sh...        0.869021   \n",
       "...                                                 ...             ...   \n",
       "1933  Sweet, naive Amy Schumer stumbles upon 3 show ...        0.853765   \n",
       "1934  John Oliver explains the totally slimy, comple...        0.917599   \n",
       "1935  The things a black kid probably can't do that ...        0.999986   \n",
       "1944  He tells the story of what 2 neo-Nazis did to ...        0.930329   \n",
       "1948  Ever heard of the Battle of Blair Mountain? Fe...        0.834083   \n",
       "\n",
       "      effect_size  \n",
       "1        0.052454  \n",
       "3        0.039843  \n",
       "4        0.053134  \n",
       "8        0.038705  \n",
       "9        0.034417  \n",
       "...           ...  \n",
       "1933     0.030924  \n",
       "1934     0.029670  \n",
       "1935     0.064464  \n",
       "1944     0.038638  \n",
       "1948     0.026267  \n",
       "\n",
       "[778 rows x 6 columns]"
      ]
     },
     "execution_count": null,
     "metadata": {},
     "output_type": "execute_result"
    }
   ],
   "source": [
    "print(results.shape)\n",
    "results[(results['p_value'] <= 0.05) & (results['power_estimate'] >= .8)]"
   ]
  },
  {
   "cell_type": "markdown",
   "metadata": {},
   "source": [
    "We have 778 tests with a small p-value and large power based on the observed data."
   ]
  },
  {
   "cell_type": "code",
   "execution_count": 17,
   "metadata": {
    "vscode": {
     "languageId": "python"
    }
   },
   "outputs": [
    {
     "data": {
      "text/html": [
       "<div>\n",
       "<style scoped>\n",
       "    .dataframe tbody tr th:only-of-type {\n",
       "        vertical-align: middle;\n",
       "    }\n",
       "\n",
       "    .dataframe tbody tr th {\n",
       "        vertical-align: top;\n",
       "    }\n",
       "\n",
       "    .dataframe thead th {\n",
       "        text-align: right;\n",
       "    }\n",
       "</style>\n",
       "<table border=\"1\" class=\"dataframe\">\n",
       "  <thead>\n",
       "    <tr style=\"text-align: right;\">\n",
       "      <th></th>\n",
       "      <th>test_id</th>\n",
       "      <th>n_variants</th>\n",
       "      <th>p_value</th>\n",
       "      <th>winner</th>\n",
       "      <th>power_estimate</th>\n",
       "      <th>effect_size</th>\n",
       "    </tr>\n",
       "  </thead>\n",
       "  <tbody>\n",
       "    <tr>\n",
       "      <th>0</th>\n",
       "      <td>51436061220cb800020001e7</td>\n",
       "      <td>4</td>\n",
       "      <td>0.039912</td>\n",
       "      <td>The One Where A Creationist Picks A Fight And ...</td>\n",
       "      <td>0.672974</td>\n",
       "      <td>0.028305</td>\n",
       "    </tr>\n",
       "    <tr>\n",
       "      <th>2</th>\n",
       "      <td>51436069220cb800020005bd</td>\n",
       "      <td>2</td>\n",
       "      <td>0.250428</td>\n",
       "      <td>None</td>\n",
       "      <td>0.209720</td>\n",
       "      <td>0.011177</td>\n",
       "    </tr>\n",
       "    <tr>\n",
       "      <th>5</th>\n",
       "      <td>5143606e220cb800020006ba</td>\n",
       "      <td>4</td>\n",
       "      <td>0.029888</td>\n",
       "      <td>This Woman's Beef With Prettiness Will Leave Y...</td>\n",
       "      <td>0.708869</td>\n",
       "      <td>0.028648</td>\n",
       "    </tr>\n",
       "    <tr>\n",
       "      <th>6</th>\n",
       "      <td>51436070220cb80002000748</td>\n",
       "      <td>3</td>\n",
       "      <td>0.188788</td>\n",
       "      <td>None</td>\n",
       "      <td>0.353352</td>\n",
       "      <td>0.017654</td>\n",
       "    </tr>\n",
       "    <tr>\n",
       "      <th>7</th>\n",
       "      <td>51436071220cb8000200077c</td>\n",
       "      <td>4</td>\n",
       "      <td>0.023038</td>\n",
       "      <td>What Are The Odds That You'll Be Single Foreve...</td>\n",
       "      <td>0.738437</td>\n",
       "      <td>0.030084</td>\n",
       "    </tr>\n",
       "    <tr>\n",
       "      <th>...</th>\n",
       "      <td>...</td>\n",
       "      <td>...</td>\n",
       "      <td>...</td>\n",
       "      <td>...</td>\n",
       "      <td>...</td>\n",
       "      <td>...</td>\n",
       "    </tr>\n",
       "    <tr>\n",
       "      <th>1945</th>\n",
       "      <td>553fbd5e356133001c050000</td>\n",
       "      <td>4</td>\n",
       "      <td>0.051261</td>\n",
       "      <td>None</td>\n",
       "      <td>0.639238</td>\n",
       "      <td>0.030825</td>\n",
       "    </tr>\n",
       "    <tr>\n",
       "      <th>1946</th>\n",
       "      <td>553fd64a356133000c450100</td>\n",
       "      <td>6</td>\n",
       "      <td>0.254789</td>\n",
       "      <td>None</td>\n",
       "      <td>0.471741</td>\n",
       "      <td>0.018970</td>\n",
       "    </tr>\n",
       "    <tr>\n",
       "      <th>1947</th>\n",
       "      <td>553fdd3c316638000c800000</td>\n",
       "      <td>5</td>\n",
       "      <td>0.486569</td>\n",
       "      <td>None</td>\n",
       "      <td>0.277603</td>\n",
       "      <td>0.013719</td>\n",
       "    </tr>\n",
       "    <tr>\n",
       "      <th>1949</th>\n",
       "      <td>55403be0393131002cf60000</td>\n",
       "      <td>4</td>\n",
       "      <td>0.033667</td>\n",
       "      <td>A plastic bottle finds its way home, but its o...</td>\n",
       "      <td>0.694489</td>\n",
       "      <td>0.032603</td>\n",
       "    </tr>\n",
       "    <tr>\n",
       "      <th>1950</th>\n",
       "      <td>55413ef4333531000c180000</td>\n",
       "      <td>2</td>\n",
       "      <td>0.086047</td>\n",
       "      <td>None</td>\n",
       "      <td>0.403991</td>\n",
       "      <td>0.026793</td>\n",
       "    </tr>\n",
       "  </tbody>\n",
       "</table>\n",
       "<p>1173 rows × 6 columns</p>\n",
       "</div>"
      ],
      "text/plain": [
       "                       test_id  n_variants   p_value  \\\n",
       "0     51436061220cb800020001e7           4  0.039912   \n",
       "2     51436069220cb800020005bd           2  0.250428   \n",
       "5     5143606e220cb800020006ba           4  0.029888   \n",
       "6     51436070220cb80002000748           3  0.188788   \n",
       "7     51436071220cb8000200077c           4  0.023038   \n",
       "...                        ...         ...       ...   \n",
       "1945  553fbd5e356133001c050000           4  0.051261   \n",
       "1946  553fd64a356133000c450100           6  0.254789   \n",
       "1947  553fdd3c316638000c800000           5  0.486569   \n",
       "1949  55403be0393131002cf60000           4  0.033667   \n",
       "1950  55413ef4333531000c180000           2  0.086047   \n",
       "\n",
       "                                                 winner  power_estimate  \\\n",
       "0     The One Where A Creationist Picks A Fight And ...        0.672974   \n",
       "2                                                  None        0.209720   \n",
       "5     This Woman's Beef With Prettiness Will Leave Y...        0.708869   \n",
       "6                                                  None        0.353352   \n",
       "7     What Are The Odds That You'll Be Single Foreve...        0.738437   \n",
       "...                                                 ...             ...   \n",
       "1945                                               None        0.639238   \n",
       "1946                                               None        0.471741   \n",
       "1947                                               None        0.277603   \n",
       "1949  A plastic bottle finds its way home, but its o...        0.694489   \n",
       "1950                                               None        0.403991   \n",
       "\n",
       "      effect_size  \n",
       "0        0.028305  \n",
       "2        0.011177  \n",
       "5        0.028648  \n",
       "6        0.017654  \n",
       "7        0.030084  \n",
       "...           ...  \n",
       "1945     0.030825  \n",
       "1946     0.018970  \n",
       "1947     0.013719  \n",
       "1949     0.032603  \n",
       "1950     0.026793  \n",
       "\n",
       "[1173 rows x 6 columns]"
      ]
     },
     "execution_count": null,
     "metadata": {},
     "output_type": "execute_result"
    }
   ],
   "source": [
    "results[(results['power_estimate'] <= .8)]"
   ]
  },
  {
   "cell_type": "markdown",
   "metadata": {},
   "source": [
    "We have 1173 tests with power less than 0.80. Those are tests we probably should not have run in the first place."
   ]
  },
  {
   "cell_type": "code",
   "execution_count": 18,
   "metadata": {
    "vscode": {
     "languageId": "python"
    }
   },
   "outputs": [
    {
     "data": {
      "text/html": [
       "<div>\n",
       "<style scoped>\n",
       "    .dataframe tbody tr th:only-of-type {\n",
       "        vertical-align: middle;\n",
       "    }\n",
       "\n",
       "    .dataframe tbody tr th {\n",
       "        vertical-align: top;\n",
       "    }\n",
       "\n",
       "    .dataframe thead th {\n",
       "        text-align: right;\n",
       "    }\n",
       "</style>\n",
       "<table border=\"1\" class=\"dataframe\">\n",
       "  <thead>\n",
       "    <tr style=\"text-align: right;\">\n",
       "      <th></th>\n",
       "      <th>test_id</th>\n",
       "      <th>n_variants</th>\n",
       "      <th>p_value</th>\n",
       "      <th>winner</th>\n",
       "      <th>power_estimate</th>\n",
       "      <th>effect_size</th>\n",
       "    </tr>\n",
       "  </thead>\n",
       "  <tbody>\n",
       "    <tr>\n",
       "      <th>0</th>\n",
       "      <td>51436061220cb800020001e7</td>\n",
       "      <td>4</td>\n",
       "      <td>0.039912</td>\n",
       "      <td>The One Where A Creationist Picks A Fight And ...</td>\n",
       "      <td>0.672974</td>\n",
       "      <td>0.028305</td>\n",
       "    </tr>\n",
       "    <tr>\n",
       "      <th>5</th>\n",
       "      <td>5143606e220cb800020006ba</td>\n",
       "      <td>4</td>\n",
       "      <td>0.029888</td>\n",
       "      <td>This Woman's Beef With Prettiness Will Leave Y...</td>\n",
       "      <td>0.708869</td>\n",
       "      <td>0.028648</td>\n",
       "    </tr>\n",
       "    <tr>\n",
       "      <th>7</th>\n",
       "      <td>51436071220cb8000200077c</td>\n",
       "      <td>4</td>\n",
       "      <td>0.023038</td>\n",
       "      <td>What Are The Odds That You'll Be Single Foreve...</td>\n",
       "      <td>0.738437</td>\n",
       "      <td>0.030084</td>\n",
       "    </tr>\n",
       "    <tr>\n",
       "      <th>14</th>\n",
       "      <td>51436075220cb800020007b8</td>\n",
       "      <td>4</td>\n",
       "      <td>0.031017</td>\n",
       "      <td>Someone Give This Man A Nobel Prize Already. H...</td>\n",
       "      <td>0.704450</td>\n",
       "      <td>0.027303</td>\n",
       "    </tr>\n",
       "    <tr>\n",
       "      <th>26</th>\n",
       "      <td>51436081220cb80002000981</td>\n",
       "      <td>4</td>\n",
       "      <td>0.034670</td>\n",
       "      <td>China's Ivory Consumption Will Probably Kill E...</td>\n",
       "      <td>0.690858</td>\n",
       "      <td>0.027856</td>\n",
       "    </tr>\n",
       "    <tr>\n",
       "      <th>...</th>\n",
       "      <td>...</td>\n",
       "      <td>...</td>\n",
       "      <td>...</td>\n",
       "      <td>...</td>\n",
       "      <td>...</td>\n",
       "      <td>...</td>\n",
       "    </tr>\n",
       "    <tr>\n",
       "      <th>1924</th>\n",
       "      <td>553689b2346161000c420100</td>\n",
       "      <td>4</td>\n",
       "      <td>0.016238</td>\n",
       "      <td>Canceling out the harmful effects of sitting c...</td>\n",
       "      <td>0.774283</td>\n",
       "      <td>0.035548</td>\n",
       "    </tr>\n",
       "    <tr>\n",
       "      <th>1925</th>\n",
       "      <td>55368f0c346161001c740100</td>\n",
       "      <td>6</td>\n",
       "      <td>0.027096</td>\n",
       "      <td>A major American theater just cast a black wom...</td>\n",
       "      <td>0.792854</td>\n",
       "      <td>0.029805</td>\n",
       "    </tr>\n",
       "    <tr>\n",
       "      <th>1942</th>\n",
       "      <td>553faeb2336438001c7f0100</td>\n",
       "      <td>6</td>\n",
       "      <td>0.033854</td>\n",
       "      <td>Ever heard of the Battle of Blair Mountain? Th...</td>\n",
       "      <td>0.771357</td>\n",
       "      <td>0.031422</td>\n",
       "    </tr>\n",
       "    <tr>\n",
       "      <th>1943</th>\n",
       "      <td>553fb407616464002cd40100</td>\n",
       "      <td>4</td>\n",
       "      <td>0.017864</td>\n",
       "      <td>There's a simple fix to save the life of an ov...</td>\n",
       "      <td>0.764929</td>\n",
       "      <td>0.035225</td>\n",
       "    </tr>\n",
       "    <tr>\n",
       "      <th>1949</th>\n",
       "      <td>55403be0393131002cf60000</td>\n",
       "      <td>4</td>\n",
       "      <td>0.033667</td>\n",
       "      <td>A plastic bottle finds its way home, but its o...</td>\n",
       "      <td>0.694489</td>\n",
       "      <td>0.032603</td>\n",
       "    </tr>\n",
       "  </tbody>\n",
       "</table>\n",
       "<p>231 rows × 6 columns</p>\n",
       "</div>"
      ],
      "text/plain": [
       "                       test_id  n_variants   p_value  \\\n",
       "0     51436061220cb800020001e7           4  0.039912   \n",
       "5     5143606e220cb800020006ba           4  0.029888   \n",
       "7     51436071220cb8000200077c           4  0.023038   \n",
       "14    51436075220cb800020007b8           4  0.031017   \n",
       "26    51436081220cb80002000981           4  0.034670   \n",
       "...                        ...         ...       ...   \n",
       "1924  553689b2346161000c420100           4  0.016238   \n",
       "1925  55368f0c346161001c740100           6  0.027096   \n",
       "1942  553faeb2336438001c7f0100           6  0.033854   \n",
       "1943  553fb407616464002cd40100           4  0.017864   \n",
       "1949  55403be0393131002cf60000           4  0.033667   \n",
       "\n",
       "                                                 winner  power_estimate  \\\n",
       "0     The One Where A Creationist Picks A Fight And ...        0.672974   \n",
       "5     This Woman's Beef With Prettiness Will Leave Y...        0.708869   \n",
       "7     What Are The Odds That You'll Be Single Foreve...        0.738437   \n",
       "14    Someone Give This Man A Nobel Prize Already. H...        0.704450   \n",
       "26    China's Ivory Consumption Will Probably Kill E...        0.690858   \n",
       "...                                                 ...             ...   \n",
       "1924  Canceling out the harmful effects of sitting c...        0.774283   \n",
       "1925  A major American theater just cast a black wom...        0.792854   \n",
       "1942  Ever heard of the Battle of Blair Mountain? Th...        0.771357   \n",
       "1943  There's a simple fix to save the life of an ov...        0.764929   \n",
       "1949  A plastic bottle finds its way home, but its o...        0.694489   \n",
       "\n",
       "      effect_size  \n",
       "0        0.028305  \n",
       "5        0.028648  \n",
       "7        0.030084  \n",
       "14       0.027303  \n",
       "26       0.027856  \n",
       "...           ...  \n",
       "1924     0.035548  \n",
       "1925     0.029805  \n",
       "1942     0.031422  \n",
       "1943     0.035225  \n",
       "1949     0.032603  \n",
       "\n",
       "[231 rows x 6 columns]"
      ]
     },
     "execution_count": null,
     "metadata": {},
     "output_type": "execute_result"
    }
   ],
   "source": [
    "results[(results['p_value'] <= 0.05) & (results['power_estimate'] <= .8)]"
   ]
  },
  {
   "cell_type": "markdown",
   "metadata": {
    "vscode": {
     "languageId": "python"
    }
   },
   "source": [
    "There are 231 tests where we risk drawing a false conclusion. There is a small p-val, but the test is underpowered. This is *extremely dangerous* and should make most statisticians uncomfortable. It looks like a few might be close to .80 - I would be flexible here, but it's still dangerous."
   ]
  }
 ],
 "metadata": {
  "language_info": {
   "name": "plaintext"
  }
 },
 "nbformat": 4,
 "nbformat_minor": 2
}
